{
 "cells": [
  {
   "cell_type": "markdown",
   "metadata": {},
   "source": [
    "# <center> Setup Kafka and Kafka's Python modules on Palmetto </center>"
   ]
  },
  {
   "cell_type": "markdown",
   "metadata": {},
   "source": [
    "**Acquire and decompress Kafka**\n",
    "\n",
    "```\n",
    "$ wget http://download.nextag.com/apache/kafka/1.0.0/kafka_2.11-1.0.0.tgz\n",
    "$ tar xzf kafka_2.11-1.0.0.tgz\n",
    "```\n",
    "\n",
    "Run the following from separate terminals:\n",
    "\n",
    "```\n",
    "cd kafka_2.11-1.0.0\n",
    "bin/zookeeper-server-start.sh config/zookeeper.properties\n",
    "```\n",
    "\n",
    "```\n",
    "cd kafka_2.11-1.0.0\n",
    "bin/kafka-server-start.sh config/server.properties\n",
    "```"
   ]
  },
  {
   "cell_type": "code",
   "execution_count": 1,
   "metadata": {},
   "outputs": [
    {
     "name": "stdout",
     "output_type": "stream",
     "text": [
      "Topic test is marked for deletion.\n",
      "Note: This will have no impact if delete.topic.enable is not set to true.\n",
      "Created topic \"test\".\n",
      "__consumer_offsets\n",
      "test\n"
     ]
    }
   ],
   "source": [
    "!cd ~/software/kafka_2.11-1.0.0; \\\n",
    "    ./bin/kafka-topics.sh --zookeeper localhost:2181 --delete --topic test\n",
    "!cd ~/software/kafka_2.11-1.0.0; \\\n",
    "    ./bin/kafka-topics.sh --create --zookeeper localhost:2181 --replication-factor 1 --partitions 1 --topic test\n",
    "!cd ~/software/kafka_2.11-1.0.0; \\\n",
    "    ./bin/kafka-topics.sh --list --zookeeper localhost:2181"
   ]
  },
  {
   "cell_type": "markdown",
   "metadata": {},
   "source": [
    "To delete a topic:\n",
    "\n",
    "Add the following lines to `config/server.properties`: `delete.topic.enable=true`"
   ]
  },
  {
   "cell_type": "code",
   "execution_count": null,
   "metadata": {
    "collapsed": true
   },
   "outputs": [],
   "source": [
    "!cd ~/software/kafka_2.11-1.0.0 & bin/kafka-topics.sh --zookeeper localhost:2181 --delete --topic test"
   ]
  },
  {
   "cell_type": "markdown",
   "metadata": {},
   "source": [
    "**Setup Confluent_Kafka**\n",
    "\n",
    "First, install your own Anaconda to a local directory in your home on Palmetto. \n",
    "\n",
    "Next, perform the following steps\n",
    "\n",
    "```\n",
    "$ module load anaconda3/5.0.1\n",
    "$ conda create --name kafka python=3.6\n",
    "$ source activate kafka\n",
    "$ conda install jupyter\n",
    "$ python -m ipykernel install --prefix=/home/lngo/.local/ --name 'Python-Kafka-3.6'\n",
    "$ conda install -c conda-forge python-confluent-kafka\n",
    "$ conda install -c conda-forge tweepy\n",
    "```"
   ]
  }
 ],
 "metadata": {
  "kernelspec": {
   "display_name": "Python-Kafka-3.6",
   "language": "python",
   "name": "python-kafka-3.6"
  },
  "language_info": {
   "codemirror_mode": {
    "name": "ipython",
    "version": 3
   },
   "file_extension": ".py",
   "mimetype": "text/x-python",
   "name": "python",
   "nbconvert_exporter": "python",
   "pygments_lexer": "ipython3",
   "version": "3.6.3"
  }
 },
 "nbformat": 4,
 "nbformat_minor": 1
}
